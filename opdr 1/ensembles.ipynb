{
 "cells": [
  {
   "cell_type": "markdown",
   "metadata": {},
   "source": [
    "# **Ensembles**"
   ]
  },
  {
   "cell_type": "markdown",
   "metadata": {},
   "source": [
    "### ***Importeren***"
   ]
  },
  {
   "cell_type": "code",
   "execution_count": 77,
   "metadata": {},
   "outputs": [],
   "source": [
    "from sklearn.ensemble import RandomForestClassifier\n",
    "from sklearn.model_selection import GridSearchCV\n",
    "from sklearn.model_selection import train_test_split\n",
    "import pandas as pd\n",
    "import numpy as np\n",
    "from sklearn.ensemble import GradientBoostingClassifier\n",
    "from xgboost import XGBClassifier\n",
    "from sklearn.metrics import accuracy_score\n",
    "from sklearn.metrics import classification_report\n",
    "from sklearn.metrics import f1_score, roc_auc_score, precision_score, recall_score"
   ]
  },
  {
   "cell_type": "code",
   "execution_count": 78,
   "metadata": {},
   "outputs": [],
   "source": [
    "df=pd.DataFrame()"
   ]
  },
  {
   "cell_type": "code",
   "execution_count": 79,
   "metadata": {},
   "outputs": [],
   "source": [
    "import pandas as pd\n",
    "data = pd.read_csv('data/train.csv')"
   ]
  },
  {
   "cell_type": "code",
   "execution_count": 80,
   "metadata": {},
   "outputs": [
    {
     "data": {
      "text/plain": [
       "stroke\n",
       "0    33033\n",
       "1      517\n",
       "Name: count, dtype: int64"
      ]
     },
     "execution_count": 80,
     "metadata": {},
     "output_type": "execute_result"
    }
   ],
   "source": [
    "data['stroke'].value_counts()"
   ]
  },
  {
   "cell_type": "markdown",
   "metadata": {},
   "source": [
    "### ***Data splitsen***"
   ]
  },
  {
   "cell_type": "code",
   "execution_count": 81,
   "metadata": {},
   "outputs": [],
   "source": [
    "X = data.drop(\"stroke\", axis=1)\n",
    "y = data[\"stroke\"]\n",
    "\n",
    "X_train, X_test, y_train, y_test = train_test_split(X, y, test_size=0.3, random_state=42)"
   ]
  },
  {
   "cell_type": "markdown",
   "metadata": {},
   "source": [
    "### ***Modellen trainen***"
   ]
  },
  {
   "cell_type": "markdown",
   "metadata": {},
   "source": [
    "#### *RandomForest*"
   ]
  },
  {
   "cell_type": "code",
   "execution_count": 82,
   "metadata": {},
   "outputs": [
    {
     "name": "stdout",
     "output_type": "stream",
     "text": [
      "Beste hyperparameters: {'max_depth': 12, 'max_features': 'log2', 'min_samples_leaf': 8, 'min_samples_split': 10, 'n_estimators': 200}\n"
     ]
    }
   ],
   "source": [
    "# Met class_weight='balanced' zorg je ervoor dat de fouten in de minderheidsklasse zwaarder meetellen.\n",
    "rf = RandomForestClassifier(class_weight='balanced')\n",
    "\n",
    "param_grid = {\n",
    "    'n_estimators': [100, 200, 300],\n",
    "    'max_depth': [5, 10, 12],\n",
    "    'min_samples_split': [2, 5, 10],\n",
    "    'min_samples_leaf': [4, 6, 8],\n",
    "    'max_features': ['sqrt', 'log2']\n",
    "}\n",
    "\n",
    "grid_search = GridSearchCV(estimator=rf, param_grid=param_grid, cv=10, scoring='f1_macro', n_jobs=-1, error_score='raise')\n",
    "\n",
    "grid_search.fit(X_train, y_train)\n",
    "\n",
    "best_model = grid_search.best_estimator_\n",
    "\n",
    "best_params = grid_search.best_params_\n",
    "\n",
    "print(\"Beste hyperparameters:\", best_params)"
   ]
  },
  {
   "cell_type": "code",
   "execution_count": 88,
   "metadata": {},
   "outputs": [
    {
     "data": {
      "text/plain": [
       "0.5338841957620568"
      ]
     },
     "execution_count": 88,
     "metadata": {},
     "output_type": "execute_result"
    }
   ],
   "source": [
    "best_model_rf = RandomForestClassifier(class_weight='balanced', max_depth=12, max_features='log2', min_samples_leaf=10, n_estimators=200)\n",
    "best_model_rf.fit(X_train, y_train)\n",
    "y_pred = best_model_rf.predict(X_test)\n",
    "f1_macro = f1_score(y_test, y_pred, average='macro')\n",
    "f1_macro"
   ]
  },
  {
   "cell_type": "code",
   "execution_count": 83,
   "metadata": {},
   "outputs": [
    {
     "name": "stdout",
     "output_type": "stream",
     "text": [
      "Confusion Matrix:\n",
      "[[22382   745]\n",
      " [   17   341]]\n"
     ]
    },
    {
     "data": {
      "image/png": "[encoded data removed]",
      "text/plain": [
       "<Figure size 640x480 with 2 Axes>"
      ]
     },
     "metadata": {},
     "output_type": "display_data"
    }
   ],
   "source": [
    "from sklearn.metrics import confusion_matrix, ConfusionMatrixDisplay\n",
    "import matplotlib.pyplot as plt\n",
    "\n",
    "y_pred = best_model.predict(X_train)\n",
    "\n",
    "# Genereer de confusion matrix\n",
    "cm = confusion_matrix(y_train, y_pred)\n",
    "\n",
    "# Print de confusion matrix\n",
    "print(\"Confusion Matrix:\")\n",
    "print(cm)\n",
    "\n",
    "disp = ConfusionMatrixDisplay(confusion_matrix=cm)\n",
    "disp.plot(cmap=plt.cm.Blues)\n",
    "plt.show()"
   ]
  },
  {
   "cell_type": "markdown",
   "metadata": {},
   "source": [
    "#### *GradientBoosting*"
   ]
  },
  {
   "cell_type": "code",
   "execution_count": 54,
   "metadata": {},
   "outputs": [
    {
     "name": "stdout",
     "output_type": "stream",
     "text": [
      "Beste hyperparameters voor GBDT: {'learning_rate': 0.05, 'max_depth': 5, 'min_samples_leaf': 2, 'min_samples_split': 10, 'n_estimators': 200}\n"
     ]
    }
   ],
   "source": [
    "# Gradient Boosted Decision Trees model\n",
    "gbdt = GradientBoostingClassifier()\n",
    "\n",
    "# Definieer de hyperparameter grid\n",
    "param_grid_gbdt = {\n",
    "    'n_estimators': [200, 300],\n",
    "    'learning_rate': [0.01, 0.05],\n",
    "    'max_depth': [3, 5],\n",
    "    'min_samples_split': [5, 10],\n",
    "    'min_samples_leaf': [2, 3]\n",
    "}\n",
    "\n",
    "\n",
    "# GridSearchCV voor GBDT\n",
    "grid_search_gbdt = GridSearchCV(estimator=gbdt, param_grid=param_grid_gbdt, cv=5, scoring='f1_macro', n_jobs=-1)\n",
    "grid_search_gbdt.fit(X_train, y_train)\n",
    "\n",
    "best_params_gbdt = grid_search_gbdt.best_params_\n",
    "print(\"Beste hyperparameters voor GBDT:\", best_params_gbdt)\n",
    "\n",
    "# Resultaten evalueren\n",
    "best_gbdt_model = grid_search_gbdt.best_estimator_"
   ]
  },
  {
   "cell_type": "code",
   "execution_count": 91,
   "metadata": {},
   "outputs": [
    {
     "data": {
      "text/plain": [
       "0.5080891560230403"
      ]
     },
     "execution_count": 91,
     "metadata": {},
     "output_type": "execute_result"
    }
   ],
   "source": [
    "best_model_gbdt = GradientBoostingClassifier(learning_rate=0.05, max_depth=5, min_samples_split=10, min_samples_leaf=2, n_estimators=200)\n",
    "best_model_gbdt.fit(X_train, y_train)\n",
    "y_pred = best_model_gbdt.predict(X_test)\n",
    "f1_macro = f1_score(y_test, y_pred, average='macro')\n",
    "f1_macro"
   ]
  },
  {
   "cell_type": "code",
   "execution_count": 73,
   "metadata": {},
   "outputs": [
    {
     "name": "stdout",
     "output_type": "stream",
     "text": [
      "Confusion Matrix:\n",
      "[[23011   116]\n",
      " [  123   235]]\n"
     ]
    },
    {
     "data": {
      "image/png": "[encoded data removed]",
      "text/plain": [
       "<Figure size 640x480 with 2 Axes>"
      ]
     },
     "metadata": {},
     "output_type": "display_data"
    }
   ],
   "source": [
    "y_pred = best_gbdt_model.predict(X_train)\n",
    "\n",
    "# Genereer de confusion matrix\n",
    "cm = confusion_matrix(y_train, y_pred)\n",
    "\n",
    "# Print de confusion matrix\n",
    "print(\"Confusion Matrix:\")\n",
    "print(cm)\n",
    "\n",
    "disp = ConfusionMatrixDisplay(confusion_matrix=cm)\n",
    "disp.plot(cmap=plt.cm.Blues)\n",
    "plt.show()"
   ]
  },
  {
   "cell_type": "markdown",
   "metadata": {},
   "source": [
    "#### *XGBoosting*"
   ]
  },
  {
   "cell_type": "code",
   "execution_count": 59,
   "metadata": {},
   "outputs": [
    {
     "name": "stdout",
     "output_type": "stream",
     "text": [
      "Fitting 5 folds for each of 108 candidates, totalling 540 fits\n",
      "Beste hyperparameters: {'colsample_bytree': 0.8, 'learning_rate': 0.01, 'max_depth': 3, 'n_estimators': 300, 'subsample': 0.8}\n",
      "Accuracy: 0.9842\n",
      "ROC AUC Score: 0.8564\n"
     ]
    }
   ],
   "source": [
    "xgb_model = XGBClassifier(objective='binary:logistic', eval_metric='logloss', random_state=42)\n",
    "\n",
    "param_grid = {\n",
    "    'n_estimators': [100, 200, 300],\n",
    "    'max_depth': [3, 5, 7],\n",
    "    'learning_rate': [0.01, 0.1, 0.2],\n",
    "    'subsample': [0.8, 1.0],\n",
    "    'colsample_bytree': [0.8, 1.0]\n",
    "}\n",
    "\n",
    "grid_search_xgb = GridSearchCV(estimator=xgb_model, param_grid=param_grid, cv=5, scoring='roc_auc', n_jobs=-1, verbose=1)\n",
    "grid_search_xgb.fit(X_train, y_train)\n",
    "\n",
    "best_xgb_params = grid_search_xgb.best_params_\n",
    "print(\"Beste hyperparameters:\", best_xgb_params)\n",
    "\n",
    "best_xgb_model = grid_search_xgb.best_estimator_\n",
    "\n",
    "y_pred = best_xgb_model.predict(X_test)\n",
    "y_pred_prob = best_xgb_model.predict_proba(X_test)[:, 1]\n",
    "\n",
    "accuracy = accuracy_score(y_test, y_pred)\n",
    "roc_auc = roc_auc_score(y_test, y_pred_prob)\n",
    "\n",
    "print(f\"Accuracy: {accuracy:.4f}\")\n",
    "print(f\"ROC AUC Score: {roc_auc:.4f}\")"
   ]
  },
  {
   "cell_type": "code",
   "execution_count": 93,
   "metadata": {},
   "outputs": [
    {
     "data": {
      "text/plain": [
       "0.4960192278804266"
      ]
     },
     "execution_count": 93,
     "metadata": {},
     "output_type": "execute_result"
    }
   ],
   "source": [
    "best_model_xgb = XGBClassifier(learning_rate=0.01, max_depth=3, colsample_bytree=0.8, subsample=0.8, n_estimators=200)\n",
    "best_model_xgb.fit(X_train, y_train)\n",
    "y_pred = best_model_xgb.predict(X_test)\n",
    "f1_macro = f1_score(y_test, y_pred, average='macro')\n",
    "f1_macro"
   ]
  },
  {
   "cell_type": "code",
   "execution_count": 74,
   "metadata": {},
   "outputs": [
    {
     "name": "stdout",
     "output_type": "stream",
     "text": [
      "Confusion Matrix:\n",
      "[[23127     0]\n",
      " [  358     0]]\n"
     ]
    },
    {
     "data": {
      "image/png": "[encoded data removed]",
      "text/plain": [
       "<Figure size 640x480 with 2 Axes>"
      ]
     },
     "metadata": {},
     "output_type": "display_data"
    }
   ],
   "source": [
    "y_pred = best_xgb_model.predict(X_train)\n",
    "\n",
    "# Genereer de confusion matrix\n",
    "cm = confusion_matrix(y_train, y_pred)\n",
    "\n",
    "# Print de confusion matrix\n",
    "print(\"Confusion Matrix:\")\n",
    "print(cm)\n",
    "\n",
    "disp = ConfusionMatrixDisplay(confusion_matrix=cm)\n",
    "disp.plot(cmap=plt.cm.Blues)\n",
    "plt.show()"
   ]
  },
  {
   "cell_type": "markdown",
   "metadata": {},
   "source": [
    "### ***Vergelijken van modellen***"
   ]
  },
  {
   "cell_type": "code",
   "execution_count": 46,
   "metadata": {},
   "outputs": [
    {
     "name": "stdout",
     "output_type": "stream",
     "text": [
      "Random Forest:\n",
      "              precision    recall  f1-score   support\n",
      "\n",
      "           0       0.98      1.00      0.99      9906\n",
      "           1       0.00      0.00      0.00       159\n",
      "\n",
      "    accuracy                           0.98     10065\n",
      "   macro avg       0.49      0.50      0.50     10065\n",
      "weighted avg       0.97      0.98      0.98     10065\n",
      "\n",
      "Gradient Boosted Decision Trees:\n",
      "              precision    recall  f1-score   support\n",
      "\n",
      "           0       0.98      1.00      0.99      9906\n",
      "           1       0.08      0.01      0.02       159\n",
      "\n",
      "    accuracy                           0.98     10065\n",
      "   macro avg       0.53      0.51      0.51     10065\n",
      "weighted avg       0.97      0.98      0.98     10065\n",
      "\n",
      "XGBoost:\n",
      "              precision    recall  f1-score   support\n",
      "\n",
      "           0       0.98      1.00      0.99      9906\n",
      "           1       0.00      0.00      0.00       159\n",
      "\n",
      "    accuracy                           0.98     10065\n",
      "   macro avg       0.49      0.50      0.50     10065\n",
      "weighted avg       0.97      0.98      0.98     10065\n",
      "\n"
     ]
    },
    {
     "name": "stderr",
     "output_type": "stream",
     "text": [
      "/Users/jip/.pyenv/versions/3.11.9/envs/general/lib/python3.11/site-packages/sklearn/metrics/_classification.py:1517: UndefinedMetricWarning: Precision is ill-defined and being set to 0.0 in labels with no predicted samples. Use `zero_division` parameter to control this behavior.\n",
      "  _warn_prf(average, modifier, f\"{metric.capitalize()} is\", len(result))\n",
      "/Users/jip/.pyenv/versions/3.11.9/envs/general/lib/python3.11/site-packages/sklearn/metrics/_classification.py:1517: UndefinedMetricWarning: Precision is ill-defined and being set to 0.0 in labels with no predicted samples. Use `zero_division` parameter to control this behavior.\n",
      "  _warn_prf(average, modifier, f\"{metric.capitalize()} is\", len(result))\n",
      "/Users/jip/.pyenv/versions/3.11.9/envs/general/lib/python3.11/site-packages/sklearn/metrics/_classification.py:1517: UndefinedMetricWarning: Precision is ill-defined and being set to 0.0 in labels with no predicted samples. Use `zero_division` parameter to control this behavior.\n",
      "  _warn_prf(average, modifier, f\"{metric.capitalize()} is\", len(result))\n",
      "/Users/jip/.pyenv/versions/3.11.9/envs/general/lib/python3.11/site-packages/sklearn/metrics/_classification.py:1517: UndefinedMetricWarning: Precision is ill-defined and being set to 0.0 in labels with no predicted samples. Use `zero_division` parameter to control this behavior.\n",
      "  _warn_prf(average, modifier, f\"{metric.capitalize()} is\", len(result))\n",
      "/Users/jip/.pyenv/versions/3.11.9/envs/general/lib/python3.11/site-packages/sklearn/metrics/_classification.py:1517: UndefinedMetricWarning: Precision is ill-defined and being set to 0.0 in labels with no predicted samples. Use `zero_division` parameter to control this behavior.\n",
      "  _warn_prf(average, modifier, f\"{metric.capitalize()} is\", len(result))\n",
      "/Users/jip/.pyenv/versions/3.11.9/envs/general/lib/python3.11/site-packages/sklearn/metrics/_classification.py:1517: UndefinedMetricWarning: Precision is ill-defined and being set to 0.0 in labels with no predicted samples. Use `zero_division` parameter to control this behavior.\n",
      "  _warn_prf(average, modifier, f\"{metric.capitalize()} is\", len(result))\n"
     ]
    }
   ],
   "source": [
    "# Voorspellingen voor Random Forest\n",
    "y_pred_rf = best_model.predict(X_test)\n",
    "print(\"Random Forest:\")\n",
    "print(classification_report(y_test, y_pred_rf))\n",
    "\n",
    "# Voorspellingen voor GBDT\n",
    "y_pred_gbdt = best_gbdt_model.predict(X_test)\n",
    "print(\"Gradient Boosted Decision Trees:\")\n",
    "print(classification_report(y_test, y_pred_gbdt))\n",
    "\n",
    "# Voorspellingen voor XGBoost\n",
    "y_pred_xgb = best_xgb_model.predict(X_test)\n",
    "print(\"XGBoost:\")\n",
    "print(classification_report(y_test, y_pred_xgb))"
   ]
  },
  {
   "cell_type": "markdown",
   "metadata": {},
   "source": [
    "# **Zelfgemaakte Ensemble**"
   ]
  },
  {
   "cell_type": "code",
   "execution_count": 84,
   "metadata": {},
   "outputs": [
    {
     "name": "stdout",
     "output_type": "stream",
     "text": [
      "F1-score (macro): 0.5071\n",
      "ROC AUC Score: 0.8453\n"
     ]
    }
   ],
   "source": [
    "from sklearn.ensemble import VotingClassifier\n",
    "from sklearn.model_selection import train_test_split\n",
    "from sklearn.metrics import f1_score, roc_auc_score\n",
    "\n",
    "# Stel je eerder getrainde modellen samen\n",
    "# Zorg ervoor dat 'best_model_rf', 'best_gbdt_model', en 'best_xgb_model' je getrainde modellen zijn\n",
    "\n",
    "# Random Forest (eerder getraind)\n",
    "best_model_rf = RandomForestClassifier(\n",
    "    n_estimators=100, max_depth=12, min_samples_leaf=8, min_samples_split=2, max_features='sqrt', class_weight='balanced'\n",
    ")\n",
    "best_model_rf.fit(X_train, y_train)\n",
    "\n",
    "# Gradient Boosting (eerder getraind)\n",
    "best_gbdt_model = GradientBoostingClassifier(\n",
    "    learning_rate=0.05, max_depth=5, min_samples_leaf=2, min_samples_split=10, n_estimators=200\n",
    ")\n",
    "best_gbdt_model.fit(X_train, y_train)\n",
    "\n",
    "# XGBoost (eerder getraind)\n",
    "best_xgb_model = XGBClassifier(\n",
    "    learning_rate=0.05, max_depth=5, n_estimators=200, scale_pos_weight=9, eval_metric='logloss'\n",
    ")\n",
    "best_xgb_model.fit(X_train, y_train)\n",
    "\n",
    "# Combineer de eerder getrainde modellen in een VotingClassifier\n",
    "ensemble = VotingClassifier(estimators=[\n",
    "    ('rf', best_model_rf),\n",
    "    ('gbdt', best_gbdt_model),\n",
    "    ('xgb', best_xgb_model)\n",
    "], voting='soft')  # Soft voting omdat de modellen probabilistische voorspellingen geven\n",
    "\n",
    "# Voer het ensemble uit\n",
    "ensemble.fit(X_train, y_train)\n",
    "\n",
    "# Voorspellingen doen en evalueren\n",
    "y_pred = ensemble.predict(X_test)\n",
    "\n",
    "# Bereken F1-score en ROC AUC\n",
    "f1_macro = f1_score(y_test, y_pred, average='macro')\n",
    "roc_auc = roc_auc_score(y_test, ensemble.predict_proba(X_test)[:, 1])\n",
    "\n",
    "print(f\"F1-score (macro): {f1_macro:.4f}\")\n",
    "print(f\"ROC AUC Score: {roc_auc:.4f}\")\n"
   ]
  }
 ],
 "metadata": {
  "kernelspec": {
   "display_name": "general",
   "language": "python",
   "name": "python3"
  },
  "language_info": {
   "codemirror_mode": {
    "name": "ipython",
    "version": 3
   },
   "file_extension": ".py",
   "mimetype": "text/x-python",
   "name": "python",
   "nbconvert_exporter": "python",
   "pygments_lexer": "ipython3",
   "version": "3.11.9"
  }
 },
 "nbformat": 4,
 "nbformat_minor": 2
}
